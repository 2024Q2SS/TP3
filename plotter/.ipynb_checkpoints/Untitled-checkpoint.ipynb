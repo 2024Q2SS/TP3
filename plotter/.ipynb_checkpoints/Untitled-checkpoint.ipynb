{
 "cells": [
  {
   "cell_type": "code",
   "execution_count": 18,
   "id": "6f40ff3f-1cbd-40ae-93fb-c6c8ffee77a4",
   "metadata": {},
   "outputs": [
    {
     "data": {
      "image/png": "[encoded data removed]",
      "text/plain": [
       "<Figure size 640x480 with 1 Axes>"
      ]
     },
     "metadata": {},
     "output_type": "display_data"
    }
   ],
   "source": [
    "import matplotlib.pyplot as plt\n",
    "import matplotlib.animation as animation\n",
    "import pandas as pd\n",
    "import json\n",
    "import numpy as np\n",
    "\n",
    "# Load the number of particles from config.json\n",
    "with open('../config.json', 'r') as f:\n",
    "    config = json.load(f)\n",
    "N = config['N']\n",
    "\n",
    "# Load particle positions from output.csv (ignoring the 'id' column)\n",
    "data = pd.read_csv('../DMDE/output.csv', usecols=['x', 'y'])\n",
    "\n",
    "# Board and obstacle parameters\n",
    "board_length = 0.10\n",
    "particle_radius = 0.001\n",
    "obstacle_radius = 0.005\n",
    "\n",
    "# Set up the figure and axis\n",
    "fig, ax = plt.subplots()\n",
    "ax.set_xlim(0, board_length)\n",
    "ax.set_ylim(0, board_length)\n",
    "ax.set_aspect('equal')\n",
    "\n",
    "# Draw the obstacle in the center of the board\n",
    "obstacle = plt.Circle((board_length/2, board_length/2), obstacle_radius, color='gray', zorder=1)\n",
    "ax.add_artist(obstacle)\n",
    "\n",
    "# Initialize particle plot\n",
    "particles, = ax.plot([], [], 'bo', ms=particle_radius*1000, zorder=2)\n",
    "\n",
    "# Function to initialize the plot\n",
    "def init():\n",
    "    particles.set_data([], [])\n",
    "    return particles,\n",
    "\n",
    "# Function to update the plot for each frame\n",
    "def update(frame):\n",
    "    start_idx = frame * N\n",
    "    end_idx = start_idx + N\n",
    "    x = data.iloc[start_idx:end_idx, 0].values\n",
    "    y = data.iloc[start_idx:end_idx, 1].values\n",
    "    particles.set_data(x, y)\n",
    "    return particles,\n",
    "\n",
    "# Create animation\n",
    "num_frames = len(data) // N\n",
    "ani = animation.FuncAnimation(fig, update, frames=num_frames, init_func=init, blit=True)\n",
    "\n",
    "# Save or display the animation\n",
    "ani.save('particle_animation.mp4', writer='ffmpeg', fps=120)\n",
    "\n",
    "plt.show()"
   ]
  }
 ],
 "metadata": {
  "kernelspec": {
   "display_name": "Python 3 (ipykernel)",
   "language": "python",
   "name": "python3"
  },
  "language_info": {
   "codemirror_mode": {
    "name": "ipython",
    "version": 3
   },
   "file_extension": ".py",
   "mimetype": "text/x-python",
   "name": "python",
   "nbconvert_exporter": "python",
   "pygments_lexer": "ipython3",
   "version": "3.11.6"
  }
 },
 "nbformat": 4,
 "nbformat_minor": 5
}
